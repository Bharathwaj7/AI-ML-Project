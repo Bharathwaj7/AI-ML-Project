{
 "cells": [
  {
   "cell_type": "code",
   "execution_count": null,
   "id": "initial_id",
   "metadata": {
    "ExecuteTime": {
     "end_time": "2024-09-24T08:04:48.410939Z",
     "start_time": "2024-09-24T08:04:48.405771Z"
    },
    "collapsed": true
   },
   "outputs": [],
   "source": [
    "from sentence_transformers import SentenceTransformer, util\n",
    "import matplotlib.pyplot as plt\n",
    "from PIL import Image\n",
    "import glob\n",
    "import os\n",
    "import torch\n",
    "#.venv/NPL Projects/Text to image search/photos"
   ]
  },
  {
   "cell_type": "code",
   "execution_count": null,
   "id": "374321e830290deb",
   "metadata": {
    "ExecuteTime": {
     "end_time": "2024-09-24T08:07:32.765318Z",
     "start_time": "2024-09-24T08:07:31.909196Z"
    }
   },
   "outputs": [],
   "source": [
    "img_names = list(glob.glob('.venv/NPL Projects/Text to image search/photos/*.jpg'))[:2000]\n",
    "\n",
    "print(len(img_names))"
   ]
  },
  {
   "cell_type": "code",
   "execution_count": null,
   "id": "e8018a577c7cd77d",
   "metadata": {
    "ExecuteTime": {
     "end_time": "2024-09-24T08:05:40.534333Z",
     "start_time": "2024-09-24T08:05:34.317888Z"
    }
   },
   "outputs": [],
   "source": [
    "img_model = SentenceTransformer('clip-VIT-B-32')"
   ]
  },
  {
   "cell_type": "code",
   "execution_count": null,
   "id": "6cdabfe459cfdca3",
   "metadata": {
    "ExecuteTime": {
     "end_time": "2024-09-24T08:11:05.885480Z",
     "start_time": "2024-09-24T08:09:36.280398Z"
    }
   },
   "outputs": [],
   "source": [
    "img_embeddings = img_model.encode([Image.open(img) for img in img_names],convert_to_tensor=True,show_progress_bar=True,batch_size=32)"
   ]
  },
  {
   "cell_type": "code",
   "execution_count": null,
   "id": "43cf17c42cd66dcf",
   "metadata": {
    "ExecuteTime": {
     "end_time": "2024-09-24T08:12:32.739127Z",
     "start_time": "2024-09-24T08:12:32.714917Z"
    }
   },
   "outputs": [],
   "source": [
    "embeddings = img_embeddings\n",
    "threshold = 0.8\n",
    "min_com_size = 10\n",
    "max_com_size = 1000\n",
    "\n",
    "cos_scores = util.cos_sim(embeddings, embeddings)"
   ]
  },
  {
   "cell_type": "code",
   "execution_count": null,
   "id": "3fc59c854cd4c49c",
   "metadata": {
    "ExecuteTime": {
     "end_time": "2024-09-24T08:12:33.538133Z",
     "start_time": "2024-09-24T08:12:33.531223Z"
    }
   },
   "outputs": [],
   "source": [
    "cos_scores.shape"
   ]
  },
  {
   "cell_type": "code",
   "execution_count": null,
   "id": "b21fb45085813945",
   "metadata": {
    "ExecuteTime": {
     "end_time": "2024-09-24T08:15:28.424710Z",
     "start_time": "2024-09-24T08:15:28.413095Z"
    }
   },
   "outputs": [],
   "source": [
    "top_k_vals,_ = cos_scores.topk(min_com_size)"
   ]
  },
  {
   "cell_type": "code",
   "execution_count": null,
   "id": "2d499147a59df3eb",
   "metadata": {
    "ExecuteTime": {
     "end_time": "2024-09-24T08:15:38.356390Z",
     "start_time": "2024-09-24T08:15:38.351022Z"
    }
   },
   "outputs": [],
   "source": [
    "top_k_vals.shape"
   ]
  },
  {
   "cell_type": "code",
   "execution_count": null,
   "id": "492e742ed616f382",
   "metadata": {
    "ExecuteTime": {
     "end_time": "2024-09-24T08:26:36.200074Z",
     "start_time": "2024-09-24T08:26:35.758347Z"
    }
   },
   "outputs": [],
   "source": [
    "extracted_communities = []\n",
    "\n",
    "for i in range(len(top_k_vals)):\n",
    "    if top_k_vals[i][-1] > threshold:\n",
    "        new_cluster = top_k_vals[i]\n",
    "        \n",
    "        top_val_large, top_idx_large = cos_scores[i].topk(k=max_com_size,largest=True)\n",
    "        top_idx_large = top_idx_large.tolist()\n",
    "        top_val_large = top_val_large.tolist()\n",
    "        new_cluster = []\n",
    "        if top_val_large[-1] < threshold:\n",
    "            for idx,val in zip(top_idx_large,top_val_large):\n",
    "                if val < threshold:\n",
    "                    break\n",
    "                new_cluster.append(idx)\n",
    "        else:\n",
    "            for idx,val in enumerate(cos_scores[i].tolist()):\n",
    "                if val >= threshold:\n",
    "                    new_cluster.append(idx)\n",
    "                    \n",
    "        extracted_communities.append(new_cluster)\n",
    "    \n",
    "extracted_communities = sorted(extracted_communities, key=lambda x: len(x), reverse=True)"
   ]
  },
  {
   "cell_type": "code",
   "execution_count": null,
   "id": "1257f83e721e37e1",
   "metadata": {
    "ExecuteTime": {
     "end_time": "2024-09-24T08:26:59.279773Z",
     "start_time": "2024-09-24T08:26:57.894503Z"
    }
   },
   "outputs": [],
   "source": [
    "extracted_communities"
   ]
  },
  {
   "cell_type": "code",
   "execution_count": null,
   "id": "fd9ff5955240a671",
   "metadata": {
    "ExecuteTime": {
     "end_time": "2024-09-24T08:27:28.004364Z",
     "start_time": "2024-09-24T08:27:27.995711Z"
    }
   },
   "outputs": [],
   "source": [
    "len(extracted_communities)"
   ]
  },
  {
   "cell_type": "code",
   "execution_count": null,
   "id": "dd3955d82e070f8e",
   "metadata": {
    "ExecuteTime": {
     "end_time": "2024-09-24T08:30:05.789373Z",
     "start_time": "2024-09-24T08:30:05.779271Z"
    }
   },
   "outputs": [],
   "source": [
    "unique_com = []\n",
    "extracted_ids = set()\n",
    "\n",
    "for community in extracted_communities:\n",
    "    add_cluster = True\n",
    "    for idx in community:\n",
    "        if idx in extracted_ids:\n",
    "            add_cluster = False\n",
    "            break\n",
    "    if add_cluster:\n",
    "        unique_com.append(community)\n",
    "        for idx in community:\n",
    "            extracted_ids.add(idx)"
   ]
  },
  {
   "cell_type": "code",
   "execution_count": null,
   "id": "7acc579d03ec729c",
   "metadata": {
    "ExecuteTime": {
     "end_time": "2024-09-24T08:30:18.496472Z",
     "start_time": "2024-09-24T08:30:18.484442Z"
    }
   },
   "outputs": [],
   "source": [
    "len(unique_com)"
   ]
  },
  {
   "cell_type": "code",
   "execution_count": null,
   "id": "e60fbcfa5046650d",
   "metadata": {
    "ExecuteTime": {
     "end_time": "2024-09-24T09:21:18.439447Z",
     "start_time": "2024-09-24T09:21:05.419943Z"
    }
   },
   "outputs": [],
   "source": [
    "for cluster in unique_com[0:10]:\n",
    "    print('\\n Cluster size: ', len(cluster))\n",
    "    for idx in cluster[0:10]:\n",
    "        img_path = img_names[idx]\n",
    "        im = Image.open(img_path).convert('RGB')\n",
    "        plt.axis('off')\n",
    "        plt.imshow(im)\n",
    "        plt.show()\n",
    "        plt.figure()"
   ]
  },
  {
   "cell_type": "markdown",
   "id": "75cb652fe869ff2e",
   "metadata": {},
   "source": []
  },
  {
   "cell_type": "code",
   "execution_count": null,
   "id": "39f93fa8a2897589",
   "metadata": {},
   "outputs": [],
   "source": []
  }
 ],
 "metadata": {
  "kernelspec": {
   "display_name": "Python 3",
   "language": "python",
   "name": "python3"
  },
  "language_info": {
   "codemirror_mode": {
    "name": "ipython",
    "version": 2
   },
   "file_extension": ".py",
   "mimetype": "text/x-python",
   "name": "python",
   "nbconvert_exporter": "python",
   "pygments_lexer": "ipython2",
   "version": "2.7.6"
  }
 },
 "nbformat": 4,
 "nbformat_minor": 5
}
