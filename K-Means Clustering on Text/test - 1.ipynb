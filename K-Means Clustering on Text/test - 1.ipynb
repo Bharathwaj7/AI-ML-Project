{
 "cells": [
  {
   "cell_type": "code",
   "id": "initial_id",
   "metadata": {
    "collapsed": true,
    "ExecuteTime": {
     "end_time": "2024-09-20T05:53:03.532196Z",
     "start_time": "2024-09-20T05:53:03.528419Z"
    }
   },
   "source": [
    "from sentence_transformers import SentenceTransformer\n",
    "from sklearn.cluster import KMeans"
   ],
   "outputs": [],
   "execution_count": 3
  },
  {
   "metadata": {
    "ExecuteTime": {
     "end_time": "2024-09-20T05:54:03.351759Z",
     "start_time": "2024-09-20T05:53:59.571057Z"
    }
   },
   "cell_type": "code",
   "source": "model = SentenceTransformer('all-MiniLM-L6-v2')",
   "id": "47e9dbc1e3126e05",
   "outputs": [],
   "execution_count": 6
  },
  {
   "metadata": {
    "ExecuteTime": {
     "end_time": "2024-09-20T05:55:27.674901Z",
     "start_time": "2024-09-20T05:55:26.026730Z"
    }
   },
   "cell_type": "code",
   "source": [
    "import requests\n",
    "response = requests.get('https://raw.githubusercontent.com/laxmimerit/machine-learning-dataset/refs/heads/master/text-dataset-for-machine-learning/sbert-corpus.txt')\n",
    "corpus = response.text.split('\\r\\n')\n",
    "\n",
    "response = requests.get('https://raw.githubusercontent.com/laxmimerit/machine-learning-dataset/refs/heads/master/text-dataset-for-machine-learning/sbert-queries.txt')\n",
    "queries = response.text.split('\\r\\n')"
   ],
   "id": "cea61f851b7f6f7a",
   "outputs": [],
   "execution_count": 7
  },
  {
   "metadata": {
    "ExecuteTime": {
     "end_time": "2024-09-20T05:56:19.395986Z",
     "start_time": "2024-09-20T05:56:18.600638Z"
    }
   },
   "cell_type": "code",
   "source": "corpus_embeddings = model.encode(corpus)",
   "id": "e57c27531655556f",
   "outputs": [],
   "execution_count": 9
  },
  {
   "metadata": {
    "ExecuteTime": {
     "end_time": "2024-09-20T06:02:15.785941Z",
     "start_time": "2024-09-20T06:02:15.452885Z"
    }
   },
   "cell_type": "code",
   "source": [
    "num_clusters = 5\n",
    "clustering_model = KMeans(n_clusters=num_clusters)\n",
    "clustering_model.fit(corpus_embeddings)\n",
    "cluster_assignment = clustering_model.labels_"
   ],
   "id": "376a13c8d197b567",
   "outputs": [],
   "execution_count": 12
  },
  {
   "metadata": {
    "ExecuteTime": {
     "end_time": "2024-09-20T06:02:19.337669Z",
     "start_time": "2024-09-20T06:02:19.329918Z"
    }
   },
   "cell_type": "code",
   "source": "cluster_assignment",
   "id": "93c1bf5ba22e13f",
   "outputs": [
    {
     "data": {
      "text/plain": [
       "array([0, 0, 0, 1, 1, 3, 3, 4, 4, 2, 2])"
      ]
     },
     "execution_count": 13,
     "metadata": {},
     "output_type": "execute_result"
    }
   ],
   "execution_count": 13
  },
  {
   "metadata": {
    "ExecuteTime": {
     "end_time": "2024-09-20T06:03:08.726740Z",
     "start_time": "2024-09-20T06:03:08.720648Z"
    }
   },
   "cell_type": "code",
   "source": [
    "clustering_sentences = [[] for i in range(num_clusters)]\n",
    "clustering_sentences"
   ],
   "id": "79df0ec821a871ea",
   "outputs": [
    {
     "data": {
      "text/plain": [
       "[[], [], [], [], []]"
      ]
     },
     "execution_count": 15,
     "metadata": {},
     "output_type": "execute_result"
    }
   ],
   "execution_count": 15
  },
  {
   "metadata": {
    "ExecuteTime": {
     "end_time": "2024-09-20T06:07:17.304627Z",
     "start_time": "2024-09-20T06:07:17.300381Z"
    }
   },
   "cell_type": "code",
   "source": [
    "for sentence_id,cluster_id in enumerate(cluster_assignment):\n",
    "    clustering_sentences[cluster_id].append(corpus[sentence_id])"
   ],
   "id": "cc3dcb14248413a2",
   "outputs": [],
   "execution_count": 17
  },
  {
   "metadata": {
    "ExecuteTime": {
     "end_time": "2024-09-20T06:07:59.958244Z",
     "start_time": "2024-09-20T06:07:59.953682Z"
    }
   },
   "cell_type": "code",
   "source": [
    "for i,cluster in enumerate(clustering_sentences):\n",
    "    print('cluster ', i+1)\n",
    "    print(cluster)"
   ],
   "id": "3fff4b5ce68036aa",
   "outputs": [
    {
     "name": "stdout",
     "output_type": "stream",
     "text": [
      "cluster  1\n",
      "['A man is eating food.', 'A man is eating a piece of bread.', 'A man is eating pasta.']\n",
      "cluster  2\n",
      "['The girl is carrying a baby.', 'The baby is carried by the woman']\n",
      "cluster  3\n",
      "['A cheetah is running behind its prey.', 'A cheetah chases prey on across a field.']\n",
      "cluster  4\n",
      "['A man is riding a horse.', 'A man is riding a white horse on an enclosed ground.']\n",
      "cluster  5\n",
      "['A monkey is playing drums.', 'Someone in a gorilla costume is playing a set of drums.']\n"
     ]
    }
   ],
   "execution_count": 18
  },
  {
   "metadata": {},
   "cell_type": "markdown",
   "source": "The below code is for if the number of clustering is unknown.",
   "id": "3f5bb842a993789c"
  },
  {
   "metadata": {
    "ExecuteTime": {
     "end_time": "2024-09-20T06:28:05.853311Z",
     "start_time": "2024-09-20T06:28:05.848637Z"
    }
   },
   "cell_type": "code",
   "source": [
    "from sklearn.cluster import AgglomerativeClustering\n",
    "from sentence_transformers import SentenceTransformer\n",
    "import numpy as np"
   ],
   "id": "3881531e4d78df43",
   "outputs": [],
   "execution_count": 21
  },
  {
   "metadata": {
    "ExecuteTime": {
     "end_time": "2024-09-20T06:28:25.520497Z",
     "start_time": "2024-09-20T06:28:21.336858Z"
    }
   },
   "cell_type": "code",
   "source": "model = SentenceTransformer('all-MiniLM-L6-v2')",
   "id": "27b91b780c5a1ba4",
   "outputs": [],
   "execution_count": 23
  },
  {
   "metadata": {
    "ExecuteTime": {
     "end_time": "2024-09-20T06:28:43.679838Z",
     "start_time": "2024-09-20T06:28:42.840898Z"
    }
   },
   "cell_type": "code",
   "source": [
    "import requests\n",
    "response = requests.get('https://raw.githubusercontent.com/laxmimerit/machine-learning-dataset/refs/heads/master/text-dataset-for-machine-learning/sbert-corpus.txt')\n",
    "corpus = response.text.split('\\r\\n')"
   ],
   "id": "912c067ea9a3aef0",
   "outputs": [],
   "execution_count": 24
  },
  {
   "metadata": {
    "ExecuteTime": {
     "end_time": "2024-09-20T06:28:54.742186Z",
     "start_time": "2024-09-20T06:28:54.659033Z"
    }
   },
   "cell_type": "code",
   "source": "corpus_embeddings = model.encode(corpus)",
   "id": "1ce26def7e4647e4",
   "outputs": [],
   "execution_count": 25
  },
  {
   "metadata": {
    "ExecuteTime": {
     "end_time": "2024-09-20T06:30:03.658550Z",
     "start_time": "2024-09-20T06:30:03.652954Z"
    }
   },
   "cell_type": "code",
   "source": "corpus_embeddings = corpus_embeddings / np.linalg.norm(corpus_embeddings,axis=1,keepdims=True)",
   "id": "c2a1a5f3e70a5e22",
   "outputs": [],
   "execution_count": 26
  },
  {
   "metadata": {
    "ExecuteTime": {
     "end_time": "2024-09-20T06:43:17.989698Z",
     "start_time": "2024-09-20T06:43:17.983201Z"
    }
   },
   "cell_type": "code",
   "source": [
    "clustering_model = AgglomerativeClustering(n_clusters=None, distance_threshold=1.5)\n",
    "clustering_model.fit(corpus_embeddings)\n",
    "cluster_assignment = clustering_model.labels_"
   ],
   "id": "923423340cc7b29e",
   "outputs": [],
   "execution_count": 51
  },
  {
   "metadata": {
    "ExecuteTime": {
     "end_time": "2024-09-20T06:43:18.479874Z",
     "start_time": "2024-09-20T06:43:18.473176Z"
    }
   },
   "cell_type": "code",
   "source": "cluster_assignment",
   "id": "494f5daba8acffa6",
   "outputs": [
    {
     "data": {
      "text/plain": [
       "array([0, 0, 0, 4, 4, 1, 1, 2, 2, 3, 3], dtype=int64)"
      ]
     },
     "execution_count": 52,
     "metadata": {},
     "output_type": "execute_result"
    }
   ],
   "execution_count": 52
  },
  {
   "metadata": {
    "ExecuteTime": {
     "end_time": "2024-09-20T06:43:18.958794Z",
     "start_time": "2024-09-20T06:43:18.953171Z"
    }
   },
   "cell_type": "code",
   "source": "np.unique(cluster_assignment)",
   "id": "7301d3e0b2df9f61",
   "outputs": [
    {
     "data": {
      "text/plain": [
       "array([0, 1, 2, 3, 4], dtype=int64)"
      ]
     },
     "execution_count": 53,
     "metadata": {},
     "output_type": "execute_result"
    }
   ],
   "execution_count": 53
  },
  {
   "metadata": {
    "ExecuteTime": {
     "end_time": "2024-09-20T06:43:19.434492Z",
     "start_time": "2024-09-20T06:43:19.428152Z"
    }
   },
   "cell_type": "code",
   "source": [
    "num_clusters = len(np.unique(cluster_assignment))\n",
    "clustering_sentences = [[] for i in range(num_clusters)]\n",
    "clustering_sentences"
   ],
   "id": "23125eb0fafbd582",
   "outputs": [
    {
     "data": {
      "text/plain": [
       "[[], [], [], [], []]"
      ]
     },
     "execution_count": 54,
     "metadata": {},
     "output_type": "execute_result"
    }
   ],
   "execution_count": 54
  },
  {
   "metadata": {
    "ExecuteTime": {
     "end_time": "2024-09-20T06:43:19.858421Z",
     "start_time": "2024-09-20T06:43:19.854350Z"
    }
   },
   "cell_type": "code",
   "source": [
    "for sentence_id,cluster_id in enumerate(cluster_assignment):\n",
    "    clustering_sentences[cluster_id].append(corpus[sentence_id])"
   ],
   "id": "68a992e9a4cd958f",
   "outputs": [],
   "execution_count": 55
  },
  {
   "metadata": {
    "ExecuteTime": {
     "end_time": "2024-09-20T06:43:20.254833Z",
     "start_time": "2024-09-20T06:43:20.249961Z"
    }
   },
   "cell_type": "code",
   "source": [
    "for i,cluster in enumerate(clustering_sentences):\n",
    "    print('cluster ', i+1)\n",
    "    print(cluster)"
   ],
   "id": "1311140783ea1406",
   "outputs": [
    {
     "name": "stdout",
     "output_type": "stream",
     "text": [
      "cluster  1\n",
      "['A man is eating food.', 'A man is eating a piece of bread.', 'A man is eating pasta.']\n",
      "cluster  2\n",
      "['A man is riding a horse.', 'A man is riding a white horse on an enclosed ground.']\n",
      "cluster  3\n",
      "['A monkey is playing drums.', 'Someone in a gorilla costume is playing a set of drums.']\n",
      "cluster  4\n",
      "['A cheetah is running behind its prey.', 'A cheetah chases prey on across a field.']\n",
      "cluster  5\n",
      "['The girl is carrying a baby.', 'The baby is carried by the woman']\n"
     ]
    }
   ],
   "execution_count": 56
  },
  {
   "metadata": {},
   "cell_type": "markdown",
   "source": "Fast Clustering on Quora Questions Set",
   "id": "a78c15e02a6b017c"
  },
  {
   "metadata": {
    "ExecuteTime": {
     "end_time": "2024-09-20T06:49:02.268843Z",
     "start_time": "2024-09-20T06:49:02.263906Z"
    }
   },
   "cell_type": "code",
   "source": [
    "from sentence_transformers import SentenceTransformer,util\n",
    "import pandas as pd\n",
    "import time"
   ],
   "id": "14579202e7ab063e",
   "outputs": [],
   "execution_count": 57
  },
  {
   "metadata": {
    "ExecuteTime": {
     "end_time": "2024-09-20T06:49:23.331028Z",
     "start_time": "2024-09-20T06:49:18.953257Z"
    }
   },
   "cell_type": "code",
   "source": "model = SentenceTransformer('all-MiniLM-L6-v2')",
   "id": "10fa885087de71bc",
   "outputs": [],
   "execution_count": 59
  },
  {
   "metadata": {
    "ExecuteTime": {
     "end_time": "2024-09-20T06:55:23.980862Z",
     "start_time": "2024-09-20T06:55:22.953411Z"
    }
   },
   "cell_type": "code",
   "source": "df = pd.read_csv('.venv/NPL Projects/K-Means Clustering on text/quora_duplicate_questions.tsv',sep='\\t')",
   "id": "24b1b0f17bf1634",
   "outputs": [],
   "execution_count": 64
  },
  {
   "metadata": {
    "ExecuteTime": {
     "end_time": "2024-09-20T06:55:29.074326Z",
     "start_time": "2024-09-20T06:55:29.068723Z"
    }
   },
   "cell_type": "code",
   "source": "df.shape",
   "id": "d95b2d7e73ec3ba5",
   "outputs": [
    {
     "data": {
      "text/plain": [
       "(404290, 6)"
      ]
     },
     "execution_count": 65,
     "metadata": {},
     "output_type": "execute_result"
    }
   ],
   "execution_count": 65
  },
  {
   "metadata": {
    "ExecuteTime": {
     "end_time": "2024-09-20T06:55:39.088943Z",
     "start_time": "2024-09-20T06:55:39.079159Z"
    }
   },
   "cell_type": "code",
   "source": "df.head()",
   "id": "82e4015a92e165eb",
   "outputs": [
    {
     "data": {
      "text/plain": [
       "   id  qid1  qid2  \\\n",
       "0   0     1     2   \n",
       "1   1     3     4   \n",
       "2   2     5     6   \n",
       "3   3     7     8   \n",
       "4   4     9    10   \n",
       "\n",
       "                                                                      question1  \\\n",
       "0            What is the step by step guide to invest in share market in india?   \n",
       "1                           What is the story of Kohinoor (Koh-i-Noor) Diamond?   \n",
       "2     How can I increase the speed of my internet connection while using a VPN?   \n",
       "3                            Why am I mentally very lonely? How can I solve it?   \n",
       "4  Which one dissolve in water quikly sugar, salt, methane and carbon di oxide?   \n",
       "\n",
       "                                                                                  question2  \\\n",
       "0                                 What is the step by step guide to invest in share market?   \n",
       "1  What would happen if the Indian government stole the Kohinoor (Koh-i-Noor) diamond back?   \n",
       "2                               How can Internet speed be increased by hacking through DNS?   \n",
       "3                         Find the remainder when [math]23^{24}[/math] is divided by 24,23?   \n",
       "4                                                   Which fish would survive in salt water?   \n",
       "\n",
       "   is_duplicate  \n",
       "0             0  \n",
       "1             0  \n",
       "2             0  \n",
       "3             0  \n",
       "4             0  "
      ],
      "text/html": [
       "<div>\n",
       "<style scoped>\n",
       "    .dataframe tbody tr th:only-of-type {\n",
       "        vertical-align: middle;\n",
       "    }\n",
       "\n",
       "    .dataframe tbody tr th {\n",
       "        vertical-align: top;\n",
       "    }\n",
       "\n",
       "    .dataframe thead th {\n",
       "        text-align: right;\n",
       "    }\n",
       "</style>\n",
       "<table border=\"1\" class=\"dataframe\">\n",
       "  <thead>\n",
       "    <tr style=\"text-align: right;\">\n",
       "      <th></th>\n",
       "      <th>id</th>\n",
       "      <th>qid1</th>\n",
       "      <th>qid2</th>\n",
       "      <th>question1</th>\n",
       "      <th>question2</th>\n",
       "      <th>is_duplicate</th>\n",
       "    </tr>\n",
       "  </thead>\n",
       "  <tbody>\n",
       "    <tr>\n",
       "      <th>0</th>\n",
       "      <td>0</td>\n",
       "      <td>1</td>\n",
       "      <td>2</td>\n",
       "      <td>What is the step by step guide to invest in share market in india?</td>\n",
       "      <td>What is the step by step guide to invest in share market?</td>\n",
       "      <td>0</td>\n",
       "    </tr>\n",
       "    <tr>\n",
       "      <th>1</th>\n",
       "      <td>1</td>\n",
       "      <td>3</td>\n",
       "      <td>4</td>\n",
       "      <td>What is the story of Kohinoor (Koh-i-Noor) Diamond?</td>\n",
       "      <td>What would happen if the Indian government stole the Kohinoor (Koh-i-Noor) diamond back?</td>\n",
       "      <td>0</td>\n",
       "    </tr>\n",
       "    <tr>\n",
       "      <th>2</th>\n",
       "      <td>2</td>\n",
       "      <td>5</td>\n",
       "      <td>6</td>\n",
       "      <td>How can I increase the speed of my internet connection while using a VPN?</td>\n",
       "      <td>How can Internet speed be increased by hacking through DNS?</td>\n",
       "      <td>0</td>\n",
       "    </tr>\n",
       "    <tr>\n",
       "      <th>3</th>\n",
       "      <td>3</td>\n",
       "      <td>7</td>\n",
       "      <td>8</td>\n",
       "      <td>Why am I mentally very lonely? How can I solve it?</td>\n",
       "      <td>Find the remainder when [math]23^{24}[/math] is divided by 24,23?</td>\n",
       "      <td>0</td>\n",
       "    </tr>\n",
       "    <tr>\n",
       "      <th>4</th>\n",
       "      <td>4</td>\n",
       "      <td>9</td>\n",
       "      <td>10</td>\n",
       "      <td>Which one dissolve in water quikly sugar, salt, methane and carbon di oxide?</td>\n",
       "      <td>Which fish would survive in salt water?</td>\n",
       "      <td>0</td>\n",
       "    </tr>\n",
       "  </tbody>\n",
       "</table>\n",
       "</div>"
      ]
     },
     "execution_count": 66,
     "metadata": {},
     "output_type": "execute_result"
    }
   ],
   "execution_count": 66
  },
  {
   "metadata": {
    "ExecuteTime": {
     "end_time": "2024-09-20T06:56:52.300129Z",
     "start_time": "2024-09-20T06:56:52.280567Z"
    }
   },
   "cell_type": "code",
   "source": [
    "sentences = df['question1'].tolist()[:1000]\n",
    "len(sentences)"
   ],
   "id": "c6a47dabbb18aa0",
   "outputs": [
    {
     "data": {
      "text/plain": [
       "1000"
      ]
     },
     "execution_count": 67,
     "metadata": {},
     "output_type": "execute_result"
    }
   ],
   "execution_count": 67
  },
  {
   "metadata": {
    "ExecuteTime": {
     "end_time": "2024-09-20T06:58:09.456644Z",
     "start_time": "2024-09-20T06:58:06.871276Z"
    }
   },
   "cell_type": "code",
   "source": "corpus_embeddings = model.encode(sentences, batch_size=64,show_progress_bar=True)",
   "id": "27d027623f9864d4",
   "outputs": [
    {
     "data": {
      "text/plain": [
       "Batches:   0%|          | 0/16 [00:00<?, ?it/s]"
      ],
      "application/vnd.jupyter.widget-view+json": {
       "version_major": 2,
       "version_minor": 0,
       "model_id": "8af7555718454be49c697d6ea57cf64f"
      }
     },
     "metadata": {},
     "output_type": "display_data"
    }
   ],
   "execution_count": 70
  },
  {
   "metadata": {
    "ExecuteTime": {
     "end_time": "2024-09-20T07:15:51.998381Z",
     "start_time": "2024-09-20T07:15:51.909668Z"
    }
   },
   "cell_type": "code",
   "source": "clusters = util.community_detection(corpus_embeddings,min_community_size=5,threshold=0.5)",
   "id": "5def8479905a9a12",
   "outputs": [],
   "execution_count": 71
  },
  {
   "metadata": {
    "ExecuteTime": {
     "end_time": "2024-09-20T07:16:01.777882Z",
     "start_time": "2024-09-20T07:16:01.767Z"
    }
   },
   "cell_type": "code",
   "source": "clusters",
   "id": "a5d890d7b0781a95",
   "outputs": [
    {
     "data": {
      "text/plain": [
       "[[304, 777, 870, 723, 978, 688, 92, 919, 607, 103],\n",
       " [439, 675, 321, 295, 689, 199, 877, 907, 105],\n",
       " [28, 78, 945, 284, 647, 564, 784, 273],\n",
       " [725, 733, 549, 726, 79, 590, 299],\n",
       " [140, 618, 287, 669, 598, 100],\n",
       " [263, 544, 93, 930, 401, 957],\n",
       " [644, 72, 969, 686, 364, 198],\n",
       " [734, 973, 752, 722, 895, 384],\n",
       " [49, 566, 967, 591, 302],\n",
       " [63, 3, 115, 218, 910],\n",
       " [233, 333, 425, 422, 419],\n",
       " [502, 532, 608, 852, 317],\n",
       " [540, 219, 703, 742, 858],\n",
       " [796, 996, 926, 612, 175]]"
      ]
     },
     "execution_count": 72,
     "metadata": {},
     "output_type": "execute_result"
    }
   ],
   "execution_count": 72
  },
  {
   "metadata": {
    "ExecuteTime": {
     "end_time": "2024-09-20T07:21:09.547495Z",
     "start_time": "2024-09-20T07:21:09.537396Z"
    }
   },
   "cell_type": "code",
   "source": [
    "for i,cluster in enumerate(clusters):\n",
    "    print(\"\\ncluster {}, #{} Questions\".format(i+1,len(cluster)))\n",
    "    for id in cluster[0:3]:\n",
    "        print(\"\\t\",sentences[id])\n",
    "    print(\"\\t\",\"...\")\n",
    "        "
   ],
   "id": "2078e5d6c1ac3312",
   "outputs": [
    {
     "name": "stdout",
     "output_type": "stream",
     "text": [
      "\n",
      "cluster 1, #10 Questions\n",
      "\t Which are the best Hollywood thriller movies?\n",
      "\t What are the most underrated and overrated movies you've seen?\n",
      "\t What are the best films that take place in one room?\n",
      "\t ...\n",
      "\n",
      "cluster 2, #9 Questions\n",
      "\t What are your views on Modi governments decision to demonetize 500 and 1000 rupee notes? How will this affect economy?\n",
      "\t What's your opinion about the decision on removal of 500 and 1000 rupees currency notes?\n",
      "\t How will Indian GDP be affected from banning 500 and 1000 rupees notes?\n",
      "\t ...\n",
      "\n",
      "cluster 3, #8 Questions\n",
      "\t What is best way to make money online?\n",
      "\t How can I make money through the Internet?\n",
      "\t What are the easy ways to earn money online?\n",
      "\t ...\n",
      "\n",
      "cluster 4, #7 Questions\n",
      "\t What are the most important things for living a good life?\n",
      "\t What is most important in life - money or values?\n",
      "\t What is the best lesson in life?\n",
      "\t ...\n",
      "\n",
      "cluster 5, #6 Questions\n",
      "\t What is our stance against Pakistan?\n",
      "\t What is the reason Pakistan supports terrorism?\n",
      "\t If there will be a war between India and Pakistan who will win?\n",
      "\t ...\n",
      "\n",
      "cluster 6, #6 Questions\n",
      "\t What do you do if you had a bad dream?\n",
      "\t What can you do in lucid dreams?\n",
      "\t What causes a nightmare?\n",
      "\t ...\n",
      "\n",
      "cluster 7, #6 Questions\n",
      "\t How can I improve my spoken English ability?\n",
      "\t How I can speak English fluently?\n",
      "\t HOw do I speak Fluent English?\n",
      "\t ...\n",
      "\n",
      "cluster 8, #6 Questions\n",
      "\t Who are the best hackers in India?\n",
      "\t Where can I find a hacker for good cause?\n",
      "\t Who are some of great coders from Tamil Nadu?\n",
      "\t ...\n",
      "\n",
      "cluster 9, #5 Questions\n",
      "\t How do I make friends.\n",
      "\t On Facebook, how can I add mutual friends?\n",
      "\t How do I get to be a people person?\n",
      "\t ...\n",
      "\n",
      "cluster 10, #5 Questions\n",
      "\t Why do I always get depressed?\n",
      "\t Why am I mentally very lonely? How can I solve it?\n",
      "\t Why do we cry when we are happy and when we are sad?\n",
      "\t ...\n",
      "\n",
      "cluster 11, #5 Questions\n",
      "\t Do porn stars watch porn?\n",
      "\t Why do male porn stars masturbate to ejaculate?\n",
      "\t How does it feel to be a spouse of a renowned porn star?\n",
      "\t ...\n",
      "\n",
      "cluster 12, #5 Questions\n",
      "\t What will most likely cause World War III?\n",
      "\t How imminent is world war III?\n",
      "\t Can World War 3 ever take place?\n",
      "\t ...\n",
      "\n",
      "cluster 13, #5 Questions\n",
      "\t How can I become a true computer science engineer?\n",
      "\t How can I learn computer security?\n",
      "\t What is the difference between IT and computer science engineering?\n",
      "\t ...\n",
      "\n",
      "cluster 14, #5 Questions\n",
      "\t What stocks are the best to invest in right now?\n",
      "\t Which is the best shares to purchase and sale daily trading?\n",
      "\t How do you determine what's a good investment brokerage and what's not?\n",
      "\t ...\n"
     ]
    }
   ],
   "execution_count": 73
  },
  {
   "metadata": {},
   "cell_type": "code",
   "outputs": [],
   "execution_count": null,
   "source": "",
   "id": "aabe475f44bf7281"
  }
 ],
 "metadata": {
  "kernelspec": {
   "display_name": "Python 3",
   "language": "python",
   "name": "python3"
  },
  "language_info": {
   "codemirror_mode": {
    "name": "ipython",
    "version": 2
   },
   "file_extension": ".py",
   "mimetype": "text/x-python",
   "name": "python",
   "nbconvert_exporter": "python",
   "pygments_lexer": "ipython2",
   "version": "2.7.6"
  }
 },
 "nbformat": 4,
 "nbformat_minor": 5
}
